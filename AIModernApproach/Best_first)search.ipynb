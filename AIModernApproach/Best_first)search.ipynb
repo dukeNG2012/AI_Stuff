{
 "cells": [
  {
   "cell_type": "code",
   "execution_count": 22,
   "metadata": {},
   "outputs": [],
   "source": [
    "from queue import PriorityQueue \n",
    "import time\n",
    "#! mục đích là tìm ra thằng có "
   ]
  },
  {
   "cell_type": "code",
   "execution_count": 27,
   "metadata": {},
   "outputs": [],
   "source": [
    "V = 14"
   ]
  },
  {
   "cell_type": "code",
   "execution_count": 28,
   "metadata": {},
   "outputs": [],
   "source": [
    "graph = [[] for i in range(V)]\n",
    "#!print(graph) tạo thành matrix 14 hàng"
   ]
  },
  {
   "cell_type": "code",
   "execution_count": 29,
   "metadata": {},
   "outputs": [
    {
     "name": "stdout",
     "output_type": "stream",
     "text": [
      "0 1 3 2 8 9 \n",
      "Thời gian chạy thuật toán best first search là: 0.0009869\n"
     ]
    }
   ],
   "source": [
    "def best_first_search(src, target, n):\n",
    "    visited = [False]*n\n",
    "    pq = PriorityQueue()\n",
    "    pq.put((0,src))\n",
    "\n",
    "    visited[src] = True\n",
    "    while pq.empty() == False:\n",
    "        u = pq.get()[1]\n",
    "        print(u,end = ' ')\n",
    "        if u == target:\n",
    "            break;\n",
    "        \n",
    "        for v,c in graph[u]: #! Biểu diễn 1 tuple trong mảng đó.\n",
    "            if visited[v] == False:\n",
    "                visited[v] == True\n",
    "                pq.put((c,v))\n",
    "    print()\n",
    "    \n",
    "def addedge(x,y,cost):\n",
    "    graph[x].append((y,cost))\n",
    "    graph[y].append((x,cost))\n",
    "\n",
    "addedge(0, 1, 3)\n",
    "addedge(0, 2, 6)\n",
    "addedge(0, 3, 5)\n",
    "addedge(1, 4, 9)\n",
    "addedge(1, 5, 8)\n",
    "addedge(2, 6, 12)\n",
    "addedge(2, 7, 14)\n",
    "addedge(3, 8, 7)\n",
    "addedge(8, 9, 5)\n",
    "addedge(8, 10, 6)\n",
    "addedge(9, 11, 1)\n",
    "addedge(9, 12, 10)\n",
    "addedge(9, 13, 2)\n",
    " \n",
    "source = 0\n",
    "target = 9\n",
    "start = time.time_ns()\n",
    "best_first_search(source, target, V)\n",
    "end = time.time_ns()\n",
    "print(\"Thời gian chạy thuật toán best first search là: \" + str((end-start)/1000000000))"
   ]
  },
  {
   "cell_type": "code",
   "execution_count": 30,
   "metadata": {},
   "outputs": [
    {
     "name": "stdout",
     "output_type": "stream",
     "text": [
      "[[(1, 3), (2, 6), (3, 5)], [(0, 3), (4, 9), (5, 8)], [(0, 6), (6, 12), (7, 14)], [(0, 5), (8, 7)], [(1, 9)], [(1, 8)], [(2, 12)], [(2, 14)], [(3, 7), (9, 5), (10, 6)], [(8, 5), (11, 1), (12, 10), (13, 2)], [(8, 6)], [(9, 1)], [(9, 10)], [(9, 2)]]\n"
     ]
    }
   ],
   "source": [
    "print(graph)"
   ]
  },
  {
   "cell_type": "code",
   "execution_count": null,
   "metadata": {},
   "outputs": [],
   "source": [
    "#! Print như trên là vì nó add theo 2 chiều.\n",
    "#! ví dụ 0-1 là 3. thì 1-0 cũng là 3. \n",
    "#! bởi vậy index 1 có (0,3)"
   ]
  },
  {
   "cell_type": "code",
   "execution_count": null,
   "metadata": {},
   "outputs": [],
   "source": []
  }
 ],
 "metadata": {
  "kernelspec": {
   "display_name": "Python 3",
   "language": "python",
   "name": "python3"
  },
  "language_info": {
   "codemirror_mode": {
    "name": "ipython",
    "version": 3
   },
   "file_extension": ".py",
   "mimetype": "text/x-python",
   "name": "python",
   "nbconvert_exporter": "python",
   "pygments_lexer": "ipython3",
   "version": "3.11.4"
  }
 },
 "nbformat": 4,
 "nbformat_minor": 2
}
