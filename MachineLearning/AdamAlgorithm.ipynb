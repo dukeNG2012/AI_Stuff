{
 "cells": [
  {
   "cell_type": "code",
   "execution_count": 3,
   "metadata": {},
   "outputs": [],
   "source": [
    "from keras.models import Sequential\n",
    "from keras.layers import Dense\n",
    "import tensorflow as tf\n",
    "from keras.optimizers import Adam\n",
    "from keras.losses import SparseCategoricalCrossentropy\n",
    "import numpy as np\n",
    "import random"
   ]
  },
  {
   "cell_type": "code",
   "execution_count": 5,
   "metadata": {},
   "outputs": [],
   "source": [
    "model = Sequential(\n",
    "    [\n",
    "        tf.keras.Input(shape=(400,)),\n",
    "        Dense(units=25,activation=\"sigmoid\"),\n",
    "        Dense(units=15,activation=\"sigmoid\"),\n",
    "        Dense(units=1, activation=\"linear\")\n",
    "        \n",
    "    ]\n",
    "    \n",
    ")"
   ]
  },
  {
   "cell_type": "code",
   "execution_count": 6,
   "metadata": {},
   "outputs": [],
   "source": [
    "model.compile(optimizer = Adam(learning_rate=1e-3))\n",
    "loss = SparseCategoricalCrossentropy(from_logits= True)"
   ]
  },
  {
   "cell_type": "code",
   "execution_count": 7,
   "metadata": {},
   "outputs": [],
   "source": [
    "x = [[random.random() for e in range(1000)] for e in range(400)]\n",
    "y = [[random.random() for e in range(1000)] for e in range(1)]"
   ]
  },
  {
   "cell_type": "code",
   "execution_count": 8,
   "metadata": {},
   "outputs": [],
   "source": [
    "model.build(x)"
   ]
  },
  {
   "cell_type": "code",
   "execution_count": 9,
   "metadata": {},
   "outputs": [],
   "source": [
    "[layer1, layer2, layer3] = model.layers"
   ]
  },
  {
   "cell_type": "code",
   "execution_count": 10,
   "metadata": {},
   "outputs": [
    {
     "name": "stdout",
     "output_type": "stream",
     "text": [
      "[array([[-0.00097744,  0.01874934, -0.10750481, ..., -0.07908583,\n",
      "         0.09930156, -0.03000567],\n",
      "       [-0.11593212, -0.08255935,  0.0383327 , ..., -0.0424085 ,\n",
      "         0.04102738,  0.03198315],\n",
      "       [-0.00289243,  0.09463988, -0.05386247, ..., -0.08622203,\n",
      "        -0.09744246,  0.06508647],\n",
      "       ...,\n",
      "       [-0.0409824 , -0.00121557,  0.05291897, ...,  0.1029204 ,\n",
      "        -0.06492274, -0.06986688],\n",
      "       [-0.01218484, -0.04391537, -0.10459999, ..., -0.06895919,\n",
      "        -0.03922799,  0.10172109],\n",
      "       [ 0.03748041,  0.05320144,  0.04733913, ..., -0.11357005,\n",
      "         0.06185573,  0.10005334]], dtype=float32), array([0., 0., 0., 0., 0., 0., 0., 0., 0., 0., 0., 0., 0., 0., 0., 0., 0.,\n",
      "       0., 0., 0., 0., 0., 0., 0., 0.], dtype=float32)]\n"
     ]
    }
   ],
   "source": [
    "print(layer1.get_weights())"
   ]
  },
  {
   "cell_type": "code",
   "execution_count": null,
   "metadata": {},
   "outputs": [],
   "source": []
  }
 ],
 "metadata": {
  "kernelspec": {
   "display_name": "Python 3",
   "language": "python",
   "name": "python3"
  },
  "language_info": {
   "codemirror_mode": {
    "name": "ipython",
    "version": 3
   },
   "file_extension": ".py",
   "mimetype": "text/x-python",
   "name": "python",
   "nbconvert_exporter": "python",
   "pygments_lexer": "ipython3",
   "version": "3.11.4"
  },
  "orig_nbformat": 4
 },
 "nbformat": 4,
 "nbformat_minor": 2
}
